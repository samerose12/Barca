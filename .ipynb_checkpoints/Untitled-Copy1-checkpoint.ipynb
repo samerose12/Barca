{
 "cells": [
  {
   "cell_type": "code",
   "execution_count": 1,
   "id": "e3fb30bf-5c6b-46ad-8172-dcdee4c6a980",
   "metadata": {},
   "outputs": [],
   "source": [
    "import barca_engine as BarcaEngine\n",
    "import barca_AI as AI\n",
    "import barca_AI_fast as AI_fast\n",
    "import numpy as np\n",
    "import pandas as pd\n",
    "from numba import njit"
   ]
  },
  {
   "cell_type": "code",
   "execution_count": 4,
   "id": "a6542f1d-1c5f-409a-99ba-5f195ec0526c",
   "metadata": {},
   "outputs": [
    {
     "data": {
      "text/html": [
       "<div>\n",
       "<style scoped>\n",
       "    .dataframe tbody tr th:only-of-type {\n",
       "        vertical-align: middle;\n",
       "    }\n",
       "\n",
       "    .dataframe tbody tr th {\n",
       "        vertical-align: top;\n",
       "    }\n",
       "\n",
       "    .dataframe thead th {\n",
       "        text-align: right;\n",
       "    }\n",
       "</style>\n",
       "<table border=\"1\" class=\"dataframe\">\n",
       "  <thead>\n",
       "    <tr style=\"text-align: right;\">\n",
       "      <th></th>\n",
       "      <th>9031048138389548064</th>\n",
       "      <th>1459326978538548926</th>\n",
       "      <th>709554810591499191</th>\n",
       "      <th>4088953035276397547</th>\n",
       "      <th>5060782059139901945</th>\n",
       "      <th>1085255534776291678</th>\n",
       "      <th>867697121177049066</th>\n",
       "      <th>3011170816511072012</th>\n",
       "      <th>1867817643955619931</th>\n",
       "      <th>5935719518844401217</th>\n",
       "      <th>...</th>\n",
       "      <th>4611829150821091060</th>\n",
       "      <th>4910737457826952053</th>\n",
       "      <th>5016376907243685409</th>\n",
       "      <th>6582302670940929342</th>\n",
       "      <th>9090812514979007908</th>\n",
       "      <th>7981771926966693793</th>\n",
       "      <th>6725707351764612700</th>\n",
       "      <th>3456916166347143440</th>\n",
       "      <th>8599776610077095995</th>\n",
       "      <th>6100174186514280358</th>\n",
       "    </tr>\n",
       "  </thead>\n",
       "  <tbody>\n",
       "    <tr>\n",
       "      <th>0</th>\n",
       "      <td>3.8</td>\n",
       "      <td>-3.7</td>\n",
       "      <td>2.2</td>\n",
       "      <td>-7.5</td>\n",
       "      <td>3.9</td>\n",
       "      <td>-6.1</td>\n",
       "      <td>11.1</td>\n",
       "      <td>-6.3</td>\n",
       "      <td>4.2</td>\n",
       "      <td>-9.7</td>\n",
       "      <td>...</td>\n",
       "      <td>8.1</td>\n",
       "      <td>11.4</td>\n",
       "      <td>12.2</td>\n",
       "      <td>16.4</td>\n",
       "      <td>16.5</td>\n",
       "      <td>17.9</td>\n",
       "      <td>16.1</td>\n",
       "      <td>16.0</td>\n",
       "      <td>17.5</td>\n",
       "      <td>7.9</td>\n",
       "    </tr>\n",
       "  </tbody>\n",
       "</table>\n",
       "<p>1 rows × 803346 columns</p>\n",
       "</div>"
      ],
      "text/plain": [
       "   9031048138389548064  1459326978538548926  709554810591499191   \\\n",
       "0                  3.8                 -3.7                  2.2   \n",
       "\n",
       "   4088953035276397547  5060782059139901945  1085255534776291678  \\\n",
       "0                 -7.5                  3.9                 -6.1   \n",
       "\n",
       "   867697121177049066   3011170816511072012  1867817643955619931  \\\n",
       "0                 11.1                 -6.3                  4.2   \n",
       "\n",
       "   5935719518844401217  ...  4611829150821091060  4910737457826952053  \\\n",
       "0                 -9.7  ...                  8.1                 11.4   \n",
       "\n",
       "   5016376907243685409  6582302670940929342  9090812514979007908  \\\n",
       "0                 12.2                 16.4                 16.5   \n",
       "\n",
       "   7981771926966693793  6725707351764612700  3456916166347143440  \\\n",
       "0                 17.9                 16.1                 16.0   \n",
       "\n",
       "   8599776610077095995  6100174186514280358  \n",
       "0                 17.5                  7.9  \n",
       "\n",
       "[1 rows x 803346 columns]"
      ]
     },
     "execution_count": 4,
     "metadata": {},
     "output_type": "execute_result"
    }
   ],
   "source": [
    "hashes = pd.read_pickle('ZobristHash')\n",
    "hashes\n"
   ]
  },
  {
   "cell_type": "code",
   "execution_count": 3,
   "id": "45dbf325-153c-4c16-924c-534e82ebecdb",
   "metadata": {},
   "outputs": [],
   "source": [
    "gs = BarcaEngine.GameState()"
   ]
  },
  {
   "cell_type": "code",
   "execution_count": 4,
   "id": "6369df69-3fe9-4a35-9841-a3eaec737de5",
   "metadata": {},
   "outputs": [
    {
     "name": "stdout",
     "output_type": "stream",
     "text": [
      "True\n",
      "(3, 4) [9. 9.]\n"
     ]
    }
   ],
   "source": [
    "validMoves = gs.getAllValidMoves()\n",
    "\n",
    "piece_locations = np.zeros((1, 2))\n",
    "for loc in gs.piece_locations.values():\n",
    "    piece_locations = np.append(piece_locations, np.array([loc[0][0], loc[0][1]]).reshape(-1, 2),\n",
    "                                axis=0)\n",
    "    piece_locations = np.append(piece_locations, np.array([loc[1][0], loc[1][1]]).reshape(-1, 2),\n",
    "                                axis=0)\n",
    "turn = 1 if gs.white_to_move else -1\n",
    "\n",
    "\n",
    "move = AI.findBestMove(gs, validMoves)\n",
    "fast_move = AI_fast.findBestMove(gs.board.copy(), piece_locations[1:], turn)\n",
    "\n",
    "fast = [(int(m[1][0]), int(m[1][1])) for m in AI_fast.getAllValidMoves(gs.board, piece_locations[1:], turn)]\n",
    "slow = [m.getPos() for m in validMoves]\n",
    "gs.makeMove(move)\n",
    "print(np.all([f in slow for f in fast]))\n",
    "print(move.getPos(), fast_move[1])\n"
   ]
  },
  {
   "cell_type": "code",
   "execution_count": null,
   "id": "4d654259-8a73-4c07-b7c9-08df13e2e41d",
   "metadata": {},
   "outputs": [],
   "source": []
  },
  {
   "cell_type": "code",
   "execution_count": 41,
   "id": "143b6f56-3c75-4807-86db-f235ff7ae7b4",
   "metadata": {},
   "outputs": [
    {
     "name": "stdout",
     "output_type": "stream",
     "text": [
      "1.99 s ± 8.43 ms per loop (mean ± std. dev. of 7 runs, 1 loop each)\n",
      "300 ms ± 6.57 ms per loop (mean ± std. dev. of 7 runs, 1 loop each)\n"
     ]
    }
   ],
   "source": [
    "# gs = BarcaEngine.GameState()\n",
    "# piece_locations = np.zeros((1, 2))\n",
    "# for loc in gs.piece_locations.values():\n",
    "#     piece_locations = np.append(piece_locations, np.array([loc[0][0], loc[0][1]]).reshape(-1, 2), axis=0)\n",
    "#     piece_locations = np.append(piece_locations, np.array([loc[1][0], loc[1][1]]).reshape(-1, 2), axis=0)\n",
    "    \n",
    "# turn = 1 if gs.white_to_move else -1\n",
    "# piece_locations = piece_locations[1:]\n",
    "# b = gs.board.copy()\n",
    "\n",
    "def bumble(boards):\n",
    "    sc = np.zeros((len(boards), 1))\n",
    "    for i in range(len(boards)):\n",
    "        r, c = np.where(boards[0] != 0)\n",
    "        piece_locations = np.c_[r, c]\n",
    "        sc[i] = AI_fast.scoreBoard(boards[i], piece_locations, -1000, 1000)\n",
    "\n",
    "%timeit bumble(boards[:10000])\n",
    "%timeit model.predict(boards[:10000].reshape(-1, 10, 10, 1))"
   ]
  },
  {
   "cell_type": "code",
   "execution_count": null,
   "id": "9f2fac6d-6a3c-4ce1-853e-0a0ac4dce18c",
   "metadata": {},
   "outputs": [],
   "source": []
  },
  {
   "cell_type": "code",
   "execution_count": 35,
   "id": "647f59de-b123-46a6-bf1b-c7183e007187",
   "metadata": {},
   "outputs": [
    {
     "data": {
      "text/plain": [
       "array([[0, 4],\n",
       "       [0, 5],\n",
       "       [1, 3],\n",
       "       [1, 4],\n",
       "       [1, 5],\n",
       "       [1, 6],\n",
       "       [8, 3],\n",
       "       [8, 4],\n",
       "       [8, 5],\n",
       "       [8, 6],\n",
       "       [9, 3],\n",
       "       [9, 5]], dtype=int64)"
      ]
     },
     "execution_count": 35,
     "metadata": {},
     "output_type": "execute_result"
    }
   ],
   "source": [
    "r, c = np.where(boards[0] != 0)\n",
    "np.c_[r, c]"
   ]
  },
  {
   "cell_type": "code",
   "execution_count": null,
   "id": "4c1fbc7c-2b67-4255-a3aa-95130a5cacac",
   "metadata": {},
   "outputs": [],
   "source": []
  },
  {
   "cell_type": "code",
   "execution_count": 43,
   "id": "da7c4dad-b5d4-46bc-b589-2f691c26244d",
   "metadata": {},
   "outputs": [
    {
     "name": "stdout",
     "output_type": "stream",
     "text": [
      " 490000: 82.2  0000003 "
     ]
    }
   ],
   "source": [
    "'''\n",
    "Generate Boards and scores\n",
    "'''\n",
    "length = 500000\n",
    "boards = np.zeros((length, 10, 10))\n",
    "scores = np.zeros((length, ))\n",
    "\n",
    "\n",
    "gs = BarcaEngine.GameState()\n",
    "b = gs.board.copy()\n",
    "r, c = np.where(b != 0)\n",
    "piece_locations = np.c_[r, c]\n",
    "turn = 1 if gs.white_to_move else -1\n",
    "\n",
    "for i in range(length):\n",
    "    moves = AI_fast.getAllValidMoves(b, piece_locations, turn)\n",
    "    choice = np.random.choice(range(len(moves)))\n",
    "    b, piece_locations = AI_fast.makeMove(b, moves[choice], piece_locations)\n",
    "    boards[i] = b\n",
    "    scores[i] = AI_fast.scoreBoard(b, piece_locations, 0, 0)\n",
    "    if i % 100 == 0:\n",
    "        b = gs.board.copy()\n",
    "        r, c = np.where(boards[0] != 0)\n",
    "        piece_locations = np.c_[r, c]\n",
    "    if i % 10000 == 0:\n",
    "        print(f'\\r {i}: {scores[i]}', end=' ', flush=True)"
   ]
  },
  {
   "cell_type": "code",
   "execution_count": 44,
   "id": "96e2cfbc-efcc-4b50-b31e-c3006a6fa607",
   "metadata": {},
   "outputs": [],
   "source": [
    "import tensorflow as tf\n",
    "from sklearn.model_selection import train_test_split\n",
    "from tensorflow.keras import layers, models\n",
    "import matplotlib.pyplot as plt"
   ]
  },
  {
   "cell_type": "code",
   "execution_count": 48,
   "id": "4507c57a-562b-4a60-9181-0f49f8f924ba",
   "metadata": {},
   "outputs": [],
   "source": [
    "model = models.Sequential()\n",
    "model.add(layers.Conv2D(100, 2, activation='relu', input_shape=(10, 10, 1)))\n",
    "model.add(layers.MaxPooling2D((2, 2)))\n",
    "model.add(layers.Conv2D(50, 1, activation='relu'))\n",
    "\n",
    "model.add(layers.Flatten())\n",
    "model.add(layers.Dense(50, activation='relu'))\n",
    "model.add(layers.Dense(1))\n"
   ]
  },
  {
   "cell_type": "code",
   "execution_count": null,
   "id": "664476a6-96f9-4b0f-8806-4596ef64bd62",
   "metadata": {},
   "outputs": [
    {
     "name": "stdout",
     "output_type": "stream",
     "text": [
      "Epoch 1/200\n",
      "4000/4000 [==============================] - 13s 3ms/step - loss: 12.2348 - val_loss: 11.2368\n",
      "Epoch 2/200\n",
      "4000/4000 [==============================] - 12s 3ms/step - loss: 10.9712 - val_loss: 10.6406\n",
      "Epoch 3/200\n",
      "4000/4000 [==============================] - 12s 3ms/step - loss: 10.6515 - val_loss: 10.4153\n",
      "Epoch 4/200\n",
      "4000/4000 [==============================] - 12s 3ms/step - loss: 10.4429 - val_loss: 10.2836\n",
      "Epoch 5/200\n",
      "4000/4000 [==============================] - 12s 3ms/step - loss: 10.3396 - val_loss: 10.1674\n",
      "Epoch 6/200\n",
      "4000/4000 [==============================] - 12s 3ms/step - loss: 10.2857 - val_loss: 10.1254\n",
      "Epoch 7/200\n",
      "4000/4000 [==============================] - 12s 3ms/step - loss: 10.2374 - val_loss: 10.2211\n",
      "Epoch 8/200\n",
      "4000/4000 [==============================] - 12s 3ms/step - loss: 10.1967 - val_loss: 10.0634\n",
      "Epoch 9/200\n",
      "4000/4000 [==============================] - 12s 3ms/step - loss: 10.1727 - val_loss: 10.1428\n",
      "Epoch 10/200\n",
      "4000/4000 [==============================] - 12s 3ms/step - loss: 10.1400 - val_loss: 10.0043\n",
      "Epoch 11/200\n",
      "4000/4000 [==============================] - 12s 3ms/step - loss: 10.1240 - val_loss: 10.0376\n",
      "Epoch 12/200\n",
      "4000/4000 [==============================] - 12s 3ms/step - loss: 10.0981 - val_loss: 9.9979\n",
      "Epoch 13/200\n",
      "4000/4000 [==============================] - 12s 3ms/step - loss: 10.0650 - val_loss: 9.9917\n",
      "Epoch 14/200\n",
      "4000/4000 [==============================] - 12s 3ms/step - loss: 10.0118 - val_loss: 9.8989\n",
      "Epoch 15/200\n",
      "4000/4000 [==============================] - 12s 3ms/step - loss: 9.9815 - val_loss: 9.9108\n",
      "Epoch 16/200\n",
      "4000/4000 [==============================] - 12s 3ms/step - loss: 9.9568 - val_loss: 9.8888\n",
      "Epoch 17/200\n",
      "4000/4000 [==============================] - 12s 3ms/step - loss: 9.9479 - val_loss: 9.8273\n",
      "Epoch 18/200\n",
      "4000/4000 [==============================] - 12s 3ms/step - loss: 9.9227 - val_loss: 9.8585\n",
      "Epoch 19/200\n",
      "4000/4000 [==============================] - 12s 3ms/step - loss: 9.9020 - val_loss: 9.8678ETA: 0s -\n",
      "Epoch 20/200\n",
      "4000/4000 [==============================] - 12s 3ms/step - loss: 9.8139 - val_loss: 9.8324\n",
      "Epoch 21/200\n",
      "2905/4000 [====================>.........] - ETA: 3s - loss: 9.7338- ETA: 3s - loss: "
     ]
    }
   ],
   "source": [
    "p = np.where(scores == np.inf)\n",
    "n = np.where(scores == -np.inf)\n",
    "scores[p] = 1000 \n",
    "scores[n] = -1000 \n",
    "\n",
    "X_train, X_test, y_train, y_test = train_test_split(boards.reshape(-1, 10, 10, 1), scores.reshape(-1, 1), test_size=0.2)\n",
    "model.compile(optimizer='adam',\n",
    "              loss='mae')\n",
    "\n",
    "history = model.fit(X_train, y_train, epochs=200, batch_size=100, shuffle=True,\n",
    "                    validation_data=(X_test, y_test))\n"
   ]
  },
  {
   "cell_type": "code",
   "execution_count": null,
   "id": "20615c5c-2835-4ae1-8264-16bfb41485c6",
   "metadata": {},
   "outputs": [],
   "source": [
    "plt.figure(figsize=(10, 10))\n",
    "epochs = range(1, len(history.history['loss']) + 1)\n",
    "plt.plot(epochs, history.history['loss'], 'o-', label='all grids')\n",
    "plt.plot(epochs, history.history['val_loss'], 'o-', label='new grids')\n",
    "plt.title('loss vs. epochs')\n",
    "plt.legend()\n",
    "plt.xlabel('epochs')\n",
    "plt.ylabel('weighted loss')\n",
    "plt.show()"
   ]
  },
  {
   "cell_type": "code",
   "execution_count": null,
   "id": "9eee2f7f-0089-4d0a-8754-b2e33c8b736c",
   "metadata": {},
   "outputs": [],
   "source": [
    "\n"
   ]
  },
  {
   "cell_type": "code",
   "execution_count": null,
   "id": "50739325-c2ab-4dc2-b5e7-833f7bcb646c",
   "metadata": {},
   "outputs": [],
   "source": []
  }
 ],
 "metadata": {
  "kernelspec": {
   "display_name": "Python 3",
   "language": "python",
   "name": "python3"
  },
  "language_info": {
   "codemirror_mode": {
    "name": "ipython",
    "version": 3
   },
   "file_extension": ".py",
   "mimetype": "text/x-python",
   "name": "python",
   "nbconvert_exporter": "python",
   "pygments_lexer": "ipython3",
   "version": "3.8.10"
  }
 },
 "nbformat": 4,
 "nbformat_minor": 5
}
